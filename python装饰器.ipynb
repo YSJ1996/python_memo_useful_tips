{
 "cells": [
  {
   "cell_type": "markdown",
   "metadata": {},
   "source": [
    "## 在了解装饰器之前，有几个前置概念需要消化"
   ]
  },
  {
   "cell_type": "markdown",
   "metadata": {},
   "source": [
    "### 1.高阶函数\n",
    "高阶函数是一种函数，能接收其他的函数作为参数"
   ]
  },
  {
   "cell_type": "code",
   "execution_count": 1,
   "metadata": {},
   "outputs": [],
   "source": [
    "def add(x, y, f): # 这里add()函数就是一个高阶函数，它接收另一个函数f作为自己的参数\n",
    "    return f(x) + f(y)"
   ]
  },
  {
   "cell_type": "code",
   "execution_count": 2,
   "metadata": {},
   "outputs": [
    {
     "data": {
      "text/plain": [
       "2"
      ]
     },
     "execution_count": 2,
     "metadata": {},
     "output_type": "execute_result"
    }
   ],
   "source": [
    "add(-1, 1, abs)"
   ]
  },
  {
   "cell_type": "markdown",
   "metadata": {},
   "source": [
    "### 2.装饰器decorator\n",
    "装饰器就更厉害了，它是能返回函数的高阶函数！   \n",
    "就是说装饰器的参数有函数，返回值也是函数！    \n",
    "形象地说，装饰器吃进去一个函数，在肚子里给吃进来的函数添加一些功能（所谓装饰），然后把它拉出来    \n",
    "来看一个简单装饰器的构造！"
   ]
  },
  {
   "cell_type": "markdown",
   "metadata": {},
   "source": [
    "@是一种函数修饰符     \n",
    "是一个“语法糖”    \n",
    "语法糖就是简化书写的trick"
   ]
  },
  {
   "cell_type": "code",
   "execution_count": 3,
   "metadata": {},
   "outputs": [],
   "source": [
    "import functools\n",
    "\n",
    "def log(func): # 这里log是给装饰器起的名字，func是要被吃进去装饰的函数名字\n",
    "    @functools.wraps(func) # 这里先不管，作用是保持被装饰的函数的名字，相当于wrapper.__name__ = func.__name__\n",
    "    def wrapper(*args,**kw): # 添加功能后的func，这里叫它wrapper（封套的意思）\n",
    "        print('run %s:' %func.__name__) # 这里就是要添加的功能辣\n",
    "        return func(*args,**kw) # 执行原来的函数\n",
    "    return wrapper # 吐出加了功能的func"
   ]
  },
  {
   "cell_type": "code",
   "execution_count": 4,
   "metadata": {},
   "outputs": [],
   "source": [
    "@log\n",
    "def test():\n",
    "    print('wowww')"
   ]
  },
  {
   "cell_type": "code",
   "execution_count": 5,
   "metadata": {},
   "outputs": [
    {
     "name": "stdout",
     "output_type": "stream",
     "text": [
      "run test:\n",
      "wowww\n"
     ]
    }
   ],
   "source": [
    "test()\n"
   ]
  },
  {
   "cell_type": "markdown",
   "metadata": {},
   "source": [
    "### 如果装饰器本身需要参数输入，比如我需要显示不同的内容，那么就要在外面再包一层函数！"
   ]
  },
  {
   "cell_type": "code",
   "execution_count": 10,
   "metadata": {},
   "outputs": [],
   "source": [
    "def log_variable(output_content):\n",
    "    def decorator(func):\n",
    "        @functools.wraps(func)\n",
    "        def wrapper(*args,**kw):\n",
    "            print(output_content + '%s' %func.__name__)\n",
    "            return func(*args,**kw)\n",
    "        return wrapper\n",
    "    return decorator"
   ]
  },
  {
   "cell_type": "code",
   "execution_count": 11,
   "metadata": {},
   "outputs": [],
   "source": [
    "@log_variable('super run')\n",
    "def test():\n",
    "    print('wowww')"
   ]
  },
  {
   "cell_type": "code",
   "execution_count": 12,
   "metadata": {},
   "outputs": [
    {
     "name": "stdout",
     "output_type": "stream",
     "text": [
      "super runtest\n",
      "wowww\n"
     ]
    }
   ],
   "source": [
    "test()"
   ]
  },
  {
   "cell_type": "markdown",
   "metadata": {},
   "source": [
    "## to be continued"
   ]
  }
 ],
 "metadata": {
  "kernelspec": {
   "display_name": "Python 3",
   "language": "python",
   "name": "python3"
  },
  "language_info": {
   "codemirror_mode": {
    "name": "ipython",
    "version": 3
   },
   "file_extension": ".py",
   "mimetype": "text/x-python",
   "name": "python",
   "nbconvert_exporter": "python",
   "pygments_lexer": "ipython3",
   "version": "3.7.4"
  }
 },
 "nbformat": 4,
 "nbformat_minor": 2
}
